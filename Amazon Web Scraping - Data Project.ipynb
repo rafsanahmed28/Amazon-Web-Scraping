{
 "cells": [
  {
   "cell_type": "markdown",
   "id": "b2072c2c-15fa-46b7-964d-3a132d349cd7",
   "metadata": {},
   "source": [
    "## Amazon Web Scraping Project"
   ]
  },
  {
   "cell_type": "code",
   "execution_count": 2,
   "id": "d6fff6f3-06ea-4d28-9ed2-2831ceae09bc",
   "metadata": {},
   "outputs": [],
   "source": [
    "# importing libraries\n",
    "\n",
    "from bs4 import BeautifulSoup\n",
    "import requests\n",
    "import pandas as pd\n",
    "import datetime\n",
    "import time\n",
    "\n",
    "import smtplib # for sending emails to myself"
   ]
  },
  {
   "cell_type": "code",
   "execution_count": 4,
   "id": "1c7ba450-56c0-4d34-b085-cd8402e18606",
   "metadata": {
    "scrolled": true
   },
   "outputs": [],
   "source": [
    "# Connect to website\n",
    "\n",
    "URL = \"https://www.amazon.ca/Sony-WH-1000XM5-Cancelling-Headphones-Hands-Free/dp/B09XSDMT4F?th=1\"\n",
    "\n",
    "headers = {\"User-Agent\": \"Mozilla/5.0 (Windows NT 10.0; Win64; x64) AppleWebKit/537.36 (KHTML, like Gecko) Chrome/135.0.0.0 Safari/537.36\", \"Priority\": \"u=0, i\"}\n",
    "\n",
    "page = requests.get(URL, headers=headers)\n",
    "\n",
    "soup1 = BeautifulSoup(page.content, 'html.parser')\n",
    "\n",
    "soup2 = BeautifulSoup(soup1.prettify(), 'html.parser')"
   ]
  },
  {
   "cell_type": "code",
   "execution_count": 5,
   "id": "af7cbf6b-5992-48fc-a280-f3261dedd836",
   "metadata": {},
   "outputs": [
    {
     "name": "stdout",
     "output_type": "stream",
     "text": [
      "Sony WH-1000XM5 Wireless Industry Leading Noise Cancelling Headphones with Auto Noise Cancelling Optimizer, Crystal Clear Hands-Free Calling, and Alexa Voice Control, Silver\n",
      "498.00\n"
     ]
    }
   ],
   "source": [
    "title = soup2.find(id=\"productTitle\").get_text().strip()\n",
    "price = soup2.find('span',class_=\"aok-offscreen\").get_text().strip()[1:]\n",
    "\n",
    "print(title)\n",
    "print(price)"
   ]
  },
  {
   "cell_type": "code",
   "execution_count": 8,
   "id": "6ac7ba9b-c5b8-4439-8f79-f880dc9fa32c",
   "metadata": {},
   "outputs": [
    {
     "name": "stdout",
     "output_type": "stream",
     "text": [
      "2025-05-22\n"
     ]
    }
   ],
   "source": [
    "today = datetime.date.today()\n",
    "print(today)"
   ]
  },
  {
   "cell_type": "code",
   "execution_count": 10,
   "id": "8c82c385-4495-4f2e-ac26-1f2987e28ecb",
   "metadata": {},
   "outputs": [],
   "source": [
    "import csv\n",
    "\n",
    "header = ['Product Name', 'Price', 'Date']\n",
    "data = [title,price, today]\n",
    "\n",
    "# This code is for saving the file and data, Only Run it once\n",
    "# Running it more than once will reset the data\n",
    "\n",
    "# with open('AmazonWebScraperDataset.csv', 'w', newline='', encoding='UTF8') as f: # w means write, newline makes it no space in between\n",
    "#    writer = csv.writer(f)\n",
    "#    writer.writerow(header)\n",
    "#    writer.writerow(data)"
   ]
  },
  {
   "cell_type": "code",
   "execution_count": 12,
   "id": "76c1b328-3275-4cfb-9bea-9e994b867e3a",
   "metadata": {},
   "outputs": [],
   "source": [
    "# This is for appending new data\n",
    "\n",
    "with open('AmazonWebScraperDataset.csv', 'a+', newline='', encoding='UTF8') as f: # a+ for append\n",
    "    writer = csv.writer(f)\n",
    "    writer.writerow(data)"
   ]
  },
  {
   "cell_type": "code",
   "execution_count": 14,
   "id": "36adc571-77cc-49de-8c25-3981249a4666",
   "metadata": {},
   "outputs": [],
   "source": [
    "# Setting up send_mail function for sending an email to myself\n",
    "\n",
    "def send_mail():\n",
    "    server = smtplib.SMTP('smtp.gmail.com:587')\n",
    "    server.ehlo()\n",
    "    server.starttls()\n",
    "    server.login('rafsanahmed.cloud@gmail.com','vwzi qbmg fzkx kcpj')\n",
    "\n",
    "    subject = \"HUGE SALE! 40% OFF & MORE! SONY XM5 IS THE CHEAPEST EVER YOU'LL FIND ON THE MARKET!\"\n",
    "    body = \"The price has dropped significantly and now it's time to swipe! Click on the link below to start the process of emptying your wallet: https://www.amazon.ca/Sony-WH-1000XM5-Cancelling-Headphones-Hands-Free/dp/B09XSDMT4F?th=1\"\n",
    "\n",
    "    msg = f\"Subject: {subject}\\n\\n{body}\"\n",
    "    \n",
    "    server.sendmail('rafsanahmed.cloud@gmail.com', 'rafsangooner@gmail.com', msg)"
   ]
  },
  {
   "cell_type": "code",
   "execution_count": 16,
   "id": "f32da34a-87fe-4727-8f0d-81a36868de3a",
   "metadata": {},
   "outputs": [],
   "source": [
    "# This the function for checking the price when price drops below a certain level\n",
    "\n",
    "def check_price():\n",
    "    URL = \"https://www.amazon.ca/Sony-WH-1000XM5-Cancelling-Headphones-Hands-Free/dp/B09XSDMT4F?th=1\"\n",
    "\n",
    "    headers = {\"User-Agent\": \"Mozilla/5.0 (Windows NT 10.0; Win64; x64) AppleWebKit/537.36 (KHTML, like Gecko) Chrome/135.0.0.0 Safari/537.36\", \"Priority\": \"u=0, i\"}\n",
    "\n",
    "    page = requests.get(URL, headers=headers)\n",
    "\n",
    "    soup1 = BeautifulSoup(page.content, 'html.parser')\n",
    "\n",
    "    soup2 = BeautifulSoup(soup1.prettify(), 'html.parser')\n",
    "\n",
    "    title = soup2.find(id=\"productTitle\").get_text().strip()\n",
    "\n",
    "    price = soup2.find('span',class_=\"aok-offscreen\").get_text().strip()[1:]\n",
    "    \n",
    "    today = datetime.date.today()\n",
    "\n",
    "    header = ['Product Name', 'Price', 'Date']\n",
    "    \n",
    "    data = [title,price, today]\n",
    "\n",
    "    with open('AmazonWebScraperDataset.csv', 'a+', newline='', encoding='UTF8') as f: # a+ for append\n",
    "        writer = csv.writer(f)\n",
    "        writer.writerow(data)\n",
    "\n",
    "    if(float(price) < 298):\n",
    "        send_mail()"
   ]
  },
  {
   "cell_type": "code",
   "execution_count": null,
   "id": "256dfbf6-8bb1-4abf-b546-47eb10f0b198",
   "metadata": {},
   "outputs": [],
   "source": [
    "while(True):\n",
    "    check_price()\n",
    "    time.sleep(86400)"
   ]
  },
  {
   "cell_type": "code",
   "execution_count": 20,
   "id": "b31a1d23-819d-4f40-b729-686ed155304c",
   "metadata": {},
   "outputs": [],
   "source": [
    "df = pd.read_csv(r\"C:\\Users\\rafsa\\AmazonWebScraperDataset.csv\")"
   ]
  },
  {
   "cell_type": "code",
   "execution_count": 22,
   "id": "10498c38-8310-4ad0-a4e1-86c22d1040ba",
   "metadata": {},
   "outputs": [],
   "source": [
    "# IMPORTANT! Saving the File to CSV is not necessary to get an email alert\n",
    "# Saving the file is done just to store data, this code is usually run on a server\n",
    "\n",
    "# END"
   ]
  }
 ],
 "metadata": {
  "kernelspec": {
   "display_name": "Python 3 (ipykernel)",
   "language": "python",
   "name": "python3"
  },
  "language_info": {
   "codemirror_mode": {
    "name": "ipython",
    "version": 3
   },
   "file_extension": ".py",
   "mimetype": "text/x-python",
   "name": "python",
   "nbconvert_exporter": "python",
   "pygments_lexer": "ipython3",
   "version": "3.12.7"
  }
 },
 "nbformat": 4,
 "nbformat_minor": 5
}
